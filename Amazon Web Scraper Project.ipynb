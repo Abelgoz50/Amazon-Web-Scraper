{
 "cells": [
  {
   "cell_type": "code",
   "execution_count": 1,
   "id": "865f062c",
   "metadata": {},
   "outputs": [],
   "source": [
    "from bs4 import BeautifulSoup\n",
    "import requests\n",
    "import smtplib\n",
    "import time\n",
    "import datetime"
   ]
  },
  {
   "cell_type": "code",
   "execution_count": 2,
   "id": "98e4675b",
   "metadata": {},
   "outputs": [
    {
     "name": "stdout",
     "output_type": "stream",
     "text": [
      "\n",
      "           2022 Apple iPad Air (10.9-inch, Wi-Fi, 256GB) - Space Gray (5th Generation)\n",
      "          \n",
      "\n",
      "                       679\n",
      "                       \n",
      "                        .\n",
      "                       \n",
      "\n"
     ]
    }
   ],
   "source": [
    "# Connect to the website\n",
    "\n",
    "URL = 'https://www.amazon.com/2022-Apple-10-9-inch-Wi-Fi-256GB/dp/B09V3H386P/ref=sr_1_3?crid=1IQR0IVIKK1LL&keywords=2022+Apple+iPad+Air+%2810.9-inch%2C+Wi-Fi%2C+256GB%29+-+Space+Gray+%285th+Generation%29&qid=1656461867&sprefix=2022+apple+ipad+air+10.9-inch%2C+wi-fi%2C+256gb+-+space+gray+5th+generation+%2Caps%2C56&sr=8-3&ufe=app_do%3Aamzn1.fos.08f69ac3-fd3d-4b88-bca2-8997e41410bb'\n",
    "\n",
    "headers = {\"User-Agent\": \"Mozilla/5.0 (Windows NT 10.0; Win64; x64) AppleWebKit/537.36 (KHTML, like Gecko) Chrome/103.0.5060.53 Safari/537.36 Edg/103.0.1264.37\", \"Accept-Encoding\":\"gzip, deflate\", \"Accept\":\"text/html,application/xhtml+xml,application/xml;q=0.9,*/*;q=0.8\", \"DNT\":\"1\",\"Connection\":\"close\", \"Upgrade-Insecure-Requests\":\"1\"}\n",
    "\n",
    "page = requests.get(URL, headers=headers)\n",
    "\n",
    "soup1 = BeautifulSoup(page.content, \"html.parser\")\n",
    "\n",
    "soup2 = BeautifulSoup(soup1.prettify(), \"html.parser\")\n",
    "\n",
    "# Pull data we want from the raw html\n",
    "\n",
    "title = soup2.find(id='productTitle').get_text()\n",
    "price = soup2.find('span', {'class':'a-price-whole'}).get_text()\n",
    "\n",
    "print(title)\n",
    "print(price)"
   ]
  },
  {
   "cell_type": "code",
   "execution_count": 9,
   "id": "fdfa19ce",
   "metadata": {},
   "outputs": [
    {
     "name": "stdout",
     "output_type": "stream",
     "text": [
      "2022 Apple iPad Air (10.9-inch, Wi-Fi, 256GB) - Space Gray (5th Generation)\n",
      "679\n"
     ]
    }
   ],
   "source": [
    "# Remove extra spaces from price and title\n",
    "\n",
    "price = price.strip()\n",
    "title = title.strip()\n",
    "\n",
    "print(title)\n",
    "print(price)"
   ]
  },
  {
   "cell_type": "code",
   "execution_count": 6,
   "id": "76bff359",
   "metadata": {},
   "outputs": [
    {
     "name": "stdout",
     "output_type": "stream",
     "text": [
      "2022-06-29\n"
     ]
    }
   ],
   "source": [
    "# Establish date stamp for keeping track of data collection timestamp\n",
    "\n",
    "import datetime\n",
    "today = datetime.date.today()\n",
    "print(today)"
   ]
  },
  {
   "cell_type": "code",
   "execution_count": 16,
   "id": "53708672",
   "metadata": {},
   "outputs": [],
   "source": [
    "# Create CSV to collect data\n",
    "\n",
    "import csv\n",
    "\n",
    "header = ['Title', 'Price','Date']\n",
    "data = [title, price, today]\n",
    "\n",
    "with open('AmazonWebScraperDataset.csv', 'w', newline='', encoding='UTF8') as f:\n",
    "    writer = csv.writer(f)\n",
    "    writer.writerow(header)\n",
    "    writer.writerow(data)"
   ]
  },
  {
   "cell_type": "code",
   "execution_count": 17,
   "id": "78779b33",
   "metadata": {},
   "outputs": [
    {
     "name": "stdout",
     "output_type": "stream",
     "text": [
      "                                               Title  Price        Date\n",
      "0  2022 Apple iPad Air (10.9-inch, Wi-Fi, 256GB) ...    679  2022-06-29\n"
     ]
    }
   ],
   "source": [
    "# Shortcut to read data without having to open the CSV everytime\n",
    "\n",
    "import pandas as pd\n",
    "\n",
    "df = pd.read_csv(r'C:\\Users\\abelg\\AmazonWebScraperDataset.csv')\n",
    "print(df)"
   ]
  },
  {
   "cell_type": "code",
   "execution_count": 18,
   "id": "ffa1aff5",
   "metadata": {},
   "outputs": [],
   "source": [
    "# Append new data to our CSV\n",
    "\n",
    "with open('AmazonWebScraperDataset.csv', 'a+', newline='', encoding='UTF8') as f:\n",
    "    writer = csv.writer(f)\n",
    "    writer.writerow(data)"
   ]
  },
  {
   "cell_type": "code",
   "execution_count": 19,
   "id": "9a35fa7c",
   "metadata": {},
   "outputs": [],
   "source": [
    "# Create function that incorporates all the above to write new data into our CSV\n",
    "\n",
    "def check_price():\n",
    "    URL = 'https://www.amazon.com/2022-Apple-10-9-inch-Wi-Fi-256GB/dp/B09V3H386P/ref=sr_1_3?crid=1IQR0IVIKK1LL&keywords=2022+Apple+iPad+Air+%2810.9-inch%2C+Wi-Fi%2C+256GB%29+-+Space+Gray+%285th+Generation%29&qid=1656461867&sprefix=2022+apple+ipad+air+10.9-inch%2C+wi-fi%2C+256gb+-+space+gray+5th+generation+%2Caps%2C56&sr=8-3&ufe=app_do%3Aamzn1.fos.08f69ac3-fd3d-4b88-bca2-8997e41410bb'\n",
    "\n",
    "    headers = {\"User-Agent\": \"Mozilla/5.0 (Windows NT 10.0; Win64; x64) AppleWebKit/537.36 (KHTML, like Gecko) Chrome/103.0.5060.53 Safari/537.36 Edg/103.0.1264.37\", \"Accept-Encoding\":\"gzip, deflate\", \"Accept\":\"text/html,application/xhtml+xml,application/xml;q=0.9,*/*;q=0.8\", \"DNT\":\"1\",\"Connection\":\"close\", \"Upgrade-Insecure-Requests\":\"1\"}\n",
    "\n",
    "    page = requests.get(URL, headers=headers)\n",
    "\n",
    "    soup1 = BeautifulSoup(page.content, \"html.parser\")\n",
    "\n",
    "    soup2 = BeautifulSoup(soup1.prettify(), \"html.parser\")\n",
    "\n",
    "    title = soup2.find(id='productTitle').get_text()\n",
    "    price = soup2.find('span', {'class':'a-price-whole'}).get_text()\n",
    "    \n",
    "    price = price.strip()[:3]\n",
    "    title = title.strip()\n",
    "    \n",
    "    import datetime\n",
    "    today = datetime.date.today()\n",
    "    \n",
    "    import csv\n",
    "\n",
    "    header = ['Title', 'Price','Date']\n",
    "    data = [title, price, today]\n",
    "    \n",
    "    with open('AmazonWebScraperDataset.csv', 'a+', newline='', encoding='UTF8') as f:\n",
    "        writer = csv.writer(f)\n",
    "        writer.writerow(data)\n",
    "        \n",
    "    # Automated email sent if price dips below $500\n",
    "    if(price < 500):\n",
    "        send_mail()"
   ]
  },
  {
   "cell_type": "code",
   "execution_count": null,
   "id": "a990c619",
   "metadata": {},
   "outputs": [],
   "source": [
    "# Timer to capture data every 24 hours (86,400 seconds)\n",
    "\n",
    "while(True):\n",
    "    check_price()\n",
    "    time.sleep(86400)"
   ]
  },
  {
   "cell_type": "code",
   "execution_count": 21,
   "id": "8f46398f",
   "metadata": {},
   "outputs": [
    {
     "name": "stdout",
     "output_type": "stream",
     "text": [
      "                                               Title  Price        Date\n",
      "0  2022 Apple iPad Air (10.9-inch, Wi-Fi, 256GB) ...    679  2022-06-29\n",
      "1  2022 Apple iPad Air (10.9-inch, Wi-Fi, 256GB) ...    679  2022-06-29\n",
      "2  2022 Apple iPad Air (10.9-inch, Wi-Fi, 256GB) ...    679  2022-06-29\n",
      "3  2022 Apple iPad Air (10.9-inch, Wi-Fi, 256GB) ...    679  2022-06-29\n",
      "4  2022 Apple iPad Air (10.9-inch, Wi-Fi, 256GB) ...    679  2022-06-29\n",
      "5  2022 Apple iPad Air (10.9-inch, Wi-Fi, 256GB) ...    679  2022-06-29\n",
      "6  2022 Apple iPad Air (10.9-inch, Wi-Fi, 256GB) ...    679  2022-06-29\n"
     ]
    }
   ],
   "source": [
    "# Read the data again to check that is collected as per the timer above\n",
    "\n",
    "import pandas as pd\n",
    "\n",
    "df = pd.read_csv(r'C:\\Users\\abelg\\AmazonWebScraperDataset.csv')\n",
    "print(df)"
   ]
  },
  {
   "cell_type": "code",
   "execution_count": null,
   "id": "ec16c547",
   "metadata": {},
   "outputs": [],
   "source": [
    "# Create function to send an automated email\n",
    "\n",
    "def send_mail():\n",
    "    server = smtplib.SMTP_SSL('smtp.gmail.com',465)\n",
    "    server.ehlo()\n",
    "    #\n",
    "    server.ehlo()\n",
    "    server.login('abelgoz@gmail.com','xxxxxxxxx')\n",
    "    \n",
    "    subject = \"The iPad you want is now below $700! Hurry to Amazon to buy it!!\"\n",
    "    body = \"No time to waste Abel! You know we need this iPad which will make all our dreams come true!\"\n",
    "    \n",
    "    msg = f\"Subject: {subject}\\n\\n{body}\"\n",
    "    \n",
    "    server.sendmail(\n",
    "        'abelgoz@gmail.com',\n",
    "        msg\n",
    "    )"
   ]
  }
 ],
 "metadata": {
  "kernelspec": {
   "display_name": "Python 3 (ipykernel)",
   "language": "python",
   "name": "python3"
  },
  "language_info": {
   "codemirror_mode": {
    "name": "ipython",
    "version": 3
   },
   "file_extension": ".py",
   "mimetype": "text/x-python",
   "name": "python",
   "nbconvert_exporter": "python",
   "pygments_lexer": "ipython3",
   "version": "3.9.12"
  }
 },
 "nbformat": 4,
 "nbformat_minor": 5
}
